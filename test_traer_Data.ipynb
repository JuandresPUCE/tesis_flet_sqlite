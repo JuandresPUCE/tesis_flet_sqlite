{
 "cells": [
  {
   "cell_type": "code",
   "execution_count": 10,
   "metadata": {},
   "outputs": [],
   "source": [
    "from modelos import CondicionesManager, CondicionesIniciales,DatosIngresadosCineticos,DatosCineticosMananger"
   ]
  },
  {
   "cell_type": "code",
   "execution_count": 11,
   "metadata": {},
   "outputs": [],
   "source": [
    "from funciones import *\n",
    "funciones = Funciones()\n",
    "datos_cineticos = DatosIngresadosCineticos()\n",
    "funciones_cineticas = DatosCineticosMananger()\n"
   ]
  },
  {
   "cell_type": "code",
   "execution_count": 12,
   "metadata": {},
   "outputs": [
    {
     "name": "stdout",
     "output_type": "stream",
     "text": [
      "SELECT datos_ingresados_cineticos.id AS datos_ingresados_cineticos_id, datos_ingresados_cineticos.tiempo AS datos_ingresados_cineticos_tiempo, datos_ingresados_cineticos.concentracion AS datos_ingresados_cineticos_concentracion, datos_ingresados_cineticos.otra_propiedad AS datos_ingresados_cineticos_otra_propiedad, datos_ingresados_cineticos.conversion_reactivo_limitante AS datos_ingresados_cineticos_conversion_reactivo_limitante, datos_ingresados_cineticos.tipo_especie AS datos_ingresados_cineticos_tipo_especie, datos_ingresados_cineticos.id_condiciones_iniciales AS datos_ingresados_cineticos_id_condiciones_iniciales, datos_ingresados_cineticos.nombre_data AS datos_ingresados_cineticos_nombre_data, datos_ingresados_cineticos.nombre_reaccion AS datos_ingresados_cineticos_nombre_reaccion, datos_ingresados_cineticos.especie_quimica AS datos_ingresados_cineticos_especie_quimica \n",
      "FROM datos_ingresados_cineticos\n",
      "SELECT datos_ingresados_cineticos.id AS datos_ingresados_cineticos_id, datos_ingresados_cineticos.tiempo AS datos_ingresados_cineticos_tiempo, datos_ingresados_cineticos.concentracion AS datos_ingresados_cineticos_concentracion, datos_ingresados_cineticos.otra_propiedad AS datos_ingresados_cineticos_otra_propiedad, datos_ingresados_cineticos.conversion_reactivo_limitante AS datos_ingresados_cineticos_conversion_reactivo_limitante, datos_ingresados_cineticos.tipo_especie AS datos_ingresados_cineticos_tipo_especie, datos_ingresados_cineticos.id_condiciones_iniciales AS datos_ingresados_cineticos_id_condiciones_iniciales, datos_ingresados_cineticos.nombre_data AS datos_ingresados_cineticos_nombre_data, datos_ingresados_cineticos.nombre_reaccion AS datos_ingresados_cineticos_nombre_reaccion, datos_ingresados_cineticos.especie_quimica AS datos_ingresados_cineticos_especie_quimica \n",
      "FROM datos_ingresados_cineticos \n",
      "WHERE datos_ingresados_cineticos.nombre_data = ?\n"
     ]
    }
   ],
   "source": [
    "# Obtener la consulta\n",
    "datos_query = funciones_cineticas.get_datos_1()\n",
    "print(datos_query)\n",
    "\n",
    "datos_query_1 = funciones_cineticas.get_datos_por_nombre(\"01_DisenoReactores_Roman_p2r_p25\")\n",
    "print(datos_query_1)"
   ]
  },
  {
   "cell_type": "code",
   "execution_count": 13,
   "metadata": {},
   "outputs": [
    {
     "name": "stdout",
     "output_type": "stream",
     "text": [
      "   id     tiempo  concentracion otra_propiedad  conversion_reactivo_limitante  \\\n",
      "0   1   0.000000         0.0170           NULL                            0.0   \n",
      "1   2   5.446623         0.0153           NULL                            0.1   \n",
      "2   3  12.254902         0.0136           NULL                            0.2   \n",
      "3   4  21.008403         0.0119           NULL                            0.3   \n",
      "4   5  32.679739         0.0102           NULL                            0.4   \n",
      "\n",
      "         tipo_especie  id_condiciones_iniciales  \\\n",
      "0  reactivo_limitante                         1   \n",
      "1  reactivo_limitante                         1   \n",
      "2  reactivo_limitante                         1   \n",
      "3  reactivo_limitante                         1   \n",
      "4  reactivo_limitante                         1   \n",
      "\n",
      "                        nombre_data nombre_reaccion especie_quimica  \n",
      "0  01_DisenoReactores_Roman_p2r_p25           2A=>R               A  \n",
      "1  01_DisenoReactores_Roman_p2r_p25           2A=>R               A  \n",
      "2  01_DisenoReactores_Roman_p2r_p25           2A=>R               A  \n",
      "3  01_DisenoReactores_Roman_p2r_p25           2A=>R               A  \n",
      "4  01_DisenoReactores_Roman_p2r_p25           2A=>R               A  \n"
     ]
    }
   ],
   "source": [
    "# Leer la tabla 'datos_ingresados_cineticos' en un DataFrame de pandas\n",
    "df = pd.read_sql(datos_query_1.statement, datos_query_1.session.bind)\n",
    "\n",
    "# Ahora puedes procesar tus datos con pandas\n",
    "print(df.head())"
   ]
  },
  {
   "cell_type": "code",
   "execution_count": 22,
   "metadata": {},
   "outputs": [
    {
     "data": {
      "text/plain": [
       "'df = pd.DataFrame([dato.__dict__ for dato in datos_query])\\n\\n# Ahora puedes procesar tus datos con pandas\\nprint(df.head())'"
      ]
     },
     "execution_count": 22,
     "metadata": {},
     "output_type": "execute_result"
    }
   ],
   "source": [
    "\"\"\"df = pd.DataFrame([dato.__dict__ for dato in datos_query])\n",
    "\n",
    "# Ahora puedes procesar tus datos con pandas\n",
    "print(df.head())\"\"\""
   ]
  }
 ],
 "metadata": {
  "kernelspec": {
   "display_name": "Python 3",
   "language": "python",
   "name": "python3"
  },
  "language_info": {
   "codemirror_mode": {
    "name": "ipython",
    "version": 3
   },
   "file_extension": ".py",
   "mimetype": "text/x-python",
   "name": "python",
   "nbconvert_exporter": "python",
   "pygments_lexer": "ipython3",
   "version": "3.11.3"
  }
 },
 "nbformat": 4,
 "nbformat_minor": 2
}
